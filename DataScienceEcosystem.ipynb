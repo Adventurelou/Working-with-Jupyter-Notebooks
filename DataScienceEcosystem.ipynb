{
 "cells": [
  {
   "cell_type": "code",
   "execution_count": 1,
   "id": "9059e1f1-a01d-47b3-95d1-287e29d40e20",
   "metadata": {
    "tags": []
   },
   "outputs": [
    {
     "name": "stdout",
     "output_type": "stream",
     "text": [
      "DATA SCIENCE TOOLS AND ECOSYSTEMS\n"
     ]
    }
   ],
   "source": [
    "print(\"DATA SCIENCE TOOLS AND ECOSYSTEMS\")"
   ]
  },
  {
   "cell_type": "code",
   "execution_count": 2,
   "id": "3acd2e38-9946-436d-9bc8-22f7522d5876",
   "metadata": {},
   "outputs": [
    {
     "name": "stdout",
     "output_type": "stream",
     "text": [
      "In this notebook, Data Science Tools and Ecsystems are summarized.\n"
     ]
    }
   ],
   "source": [
    "print(\"In this notebook, Data Science Tools and Ecsystems are summarized.\")"
   ]
  },
  {
   "cell_type": "markdown",
   "id": "3f22f57a-77b6-4d51-842b-de53c18efff7",
   "metadata": {},
   "source": [
    "print(\"Some of the popular languages that Data Scientists use are:\") "
   ]
  },
  {
   "cell_type": "markdown",
   "id": "880956de-29a1-481b-a21c-dbd74e77130e",
   "metadata": {},
   "source": [
    "**Objectives**"
   ]
  },
  {
   "cell_type": "markdown",
   "id": "f3193b2e-c175-411f-9bfb-4d655d8d0fc5",
   "metadata": {
    "tags": []
   },
   "source": [
    "## Course Outline\n",
    "- Understand the basics of Python\n",
    "- Learn how to work with data structures\n",
    "- Explore functions and loops\n"
   ]
  },
  {
   "cell_type": "markdown",
   "id": "7ffc3974-2deb-4264-93a3-aaac3ed0b648",
   "metadata": {},
   "source": [
    "## Author\n",
    "monica camacho"
   ]
  },
  {
   "cell_type": "code",
   "execution_count": 3,
   "id": "b4ebd66e-9d68-499c-9c83-00c61ac91ae1",
   "metadata": {
    "tags": []
   },
   "outputs": [
    {
     "name": "stdout",
     "output_type": "stream",
     "text": [
      "1.python\n",
      "2.SQL\n",
      "3.Julia\n"
     ]
    }
   ],
   "source": [
    "language = ['python', 'SQL', 'Julia']\n",
    "for i, lang in enumerate(language, 1):\n",
    "    print(f\"{i}.{lang}\")"
   ]
  },
  {
   "cell_type": "code",
   "execution_count": 4,
   "id": "6724a082-5417-4ed1-96cd-843ae24d3fbb",
   "metadata": {
    "tags": []
   },
   "outputs": [
    {
     "name": "stdout",
     "output_type": "stream",
     "text": [
      "Data Science Tools\n"
     ]
    }
   ],
   "source": [
    "print(\"Data Science Tools\")\n"
   ]
  },
  {
   "cell_type": "code",
   "execution_count": 5,
   "id": "97bc15cb-b108-488c-82fb-b281d1084a39",
   "metadata": {
    "tags": []
   },
   "outputs": [
    {
     "name": "stdout",
     "output_type": "stream",
     "text": [
      "Git\n",
      "Github\n",
      "Jupyter Notebooks\n"
     ]
    }
   ],
   "source": [
    "data = ['Git', 'Github', 'Jupyter Notebooks']\n",
    "for row in data:\n",
    "     print(row)\n"
   ]
  },
  {
   "cell_type": "markdown",
   "id": "e8af5ea9-b861-4b3c-8b94-ee52dcebd60f",
   "metadata": {
    "tags": []
   },
   "source": [
    "|Data Frame Tools|\n",
    "|----------------|\n",
    "|Git             |\n",
    "|Github          |\n",
    "|Jupyter Notebooks|"
   ]
  },
  {
   "cell_type": "markdown",
   "id": "181ebaa0-47f1-49b4-b6f1-6d9a14a54b27",
   "metadata": {},
   "source": [
    "<h3>Below are a few examples of evaluating arithmetic expressions in Python<h3>"
   ]
  },
  {
   "cell_type": "markdown",
   "id": "2e5c3c79-c862-4f6f-a8c4-dc3a13d5dffe",
   "metadata": {},
   "source": [
    "#This a simple arithmetic expression to mutiply then add integers"
   ]
  },
  {
   "cell_type": "code",
   "execution_count": 6,
   "id": "f0be433e-5331-47ff-87e0-5e919ce48473",
   "metadata": {
    "tags": []
   },
   "outputs": [
    {
     "data": {
      "text/plain": [
       "17"
      ]
     },
     "execution_count": 6,
     "metadata": {},
     "output_type": "execute_result"
    }
   ],
   "source": [
    " (3*4)+5"
   ]
  },
  {
   "cell_type": "code",
   "execution_count": 7,
   "id": "1416e1e1-4fb7-406a-b4a5-6e4550cc436a",
   "metadata": {
    "tags": []
   },
   "outputs": [
    {
     "data": {
      "text/plain": [
       "3.3333333333333335"
      ]
     },
     "execution_count": 7,
     "metadata": {},
     "output_type": "execute_result"
    }
   ],
   "source": [
    "# This will convert 200 minutes to hours by diving by 60\n",
    "200/60"
   ]
  },
  {
   "cell_type": "code",
   "execution_count": null,
   "id": "c3b06a59-cb5e-43a0-8598-e9d4689de96e",
   "metadata": {},
   "outputs": [],
   "source": []
  }
 ],
 "metadata": {
  "kernelspec": {
   "display_name": "Python",
   "language": "python",
   "name": "conda-env-python-py"
  },
  "language_info": {
   "codemirror_mode": {
    "name": "ipython",
    "version": 3
   },
   "file_extension": ".py",
   "mimetype": "text/x-python",
   "name": "python",
   "nbconvert_exporter": "python",
   "pygments_lexer": "ipython3",
   "version": "3.7.12"
  }
 },
 "nbformat": 4,
 "nbformat_minor": 5
}
