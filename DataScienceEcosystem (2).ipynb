{
 "cells": [
  {
   "cell_type": "markdown",
   "id": "f44d6743-6c78-4ca4-b4ae-7a57f8e6fc16",
   "metadata": {},
   "source": [
    "# Data Science Tools And Ecosystems"
   ]
  },
  {
   "cell_type": "markdown",
   "id": "dc5b343f-a751-4f2a-ac99-6824d0c3f425",
   "metadata": {},
   "source": [
    "In this notebook, Data Science Tools and Ecosystems are summarized."
   ]
  },
  {
   "cell_type": "markdown",
   "id": "880956de-29a1-481b-a21c-dbd74e77130e",
   "metadata": {},
   "source": [
    "**Objectives**"
   ]
  },
  {
   "cell_type": "markdown",
   "id": "502927a0-c125-41d3-9e91-69f32821cad5",
   "metadata": {},
   "source": [
    "Some of the popular languages that Data Scientists use are"
   ]
  },
  {
   "cell_type": "markdown",
   "id": "3d6adc3d-e8a1-4af0-92e2-40ad812235ee",
   "metadata": {},
   "source": [
    "- Python\n",
    "- Julia\n",
    "- C++"
   ]
  },
  {
   "cell_type": "markdown",
   "id": "f3193b2e-c175-411f-9bfb-4d655d8d0fc5",
   "metadata": {
    "tags": []
   },
   "source": [
    "#### Course Outline\n",
    "- Understand the basics of Python\n",
    "- Learn how to work with data structures\n",
    "- Explore functions and loops\n"
   ]
  },
  {
   "cell_type": "markdown",
   "id": "1c31509b-f8e7-4b4a-808d-4c60f519405f",
   "metadata": {},
   "source": [
    "Some of the most commonly used libraries are:\n",
    "1. NumPy\n",
    "2. Pandas\n",
    "3 Plotly\n",
    "4. TensorFlow\n"
   ]
  },
  {
   "cell_type": "markdown",
   "id": "4f0af561-29d4-46da-86f6-c2f4b4473206",
   "metadata": {},
   "source": [
    "Data Science Tools"
   ]
  },
  {
   "cell_type": "markdown",
   "id": "879458c0-85ee-422b-a7b8-4ec9b6e80d16",
   "metadata": {},
   "source": [
    "| Data Science Tools |\n",
    "|--------------------|\n",
    "| Git                |\n",
    "| Github             |\n",
    "| Jupyter Notebooks  |"
   ]
  },
  {
   "cell_type": "markdown",
   "id": "181ebaa0-47f1-49b4-b6f1-6d9a14a54b27",
   "metadata": {},
   "source": [
    "<h3>Below are a few examples of evaluating arithmetic expressions in Python<h3>"
   ]
  },
  {
   "cell_type": "code",
   "execution_count": 1,
   "id": "7baf6463-b40c-4af0-9752-551da3e8a2d0",
   "metadata": {
    "tags": []
   },
   "outputs": [],
   "source": [
    "# this a simple arithmetic expression to mutiply then add integers"
   ]
  },
  {
   "cell_type": "code",
   "execution_count": 6,
   "id": "f0be433e-5331-47ff-87e0-5e919ce48473",
   "metadata": {
    "tags": []
   },
   "outputs": [
    {
     "data": {
      "text/plain": [
       "17"
      ]
     },
     "execution_count": 6,
     "metadata": {},
     "output_type": "execute_result"
    }
   ],
   "source": [
    " (3*4)+5"
   ]
  },
  {
   "cell_type": "code",
   "execution_count": 7,
   "id": "1416e1e1-4fb7-406a-b4a5-6e4550cc436a",
   "metadata": {
    "tags": []
   },
   "outputs": [
    {
     "data": {
      "text/plain": [
       "3.3333333333333335"
      ]
     },
     "execution_count": 7,
     "metadata": {},
     "output_type": "execute_result"
    }
   ],
   "source": [
    "# This will convert 200 minutes to hours by diving by 60\n",
    "200/60"
   ]
  },
  {
   "cell_type": "markdown",
   "id": "7ffc3974-2deb-4264-93a3-aaac3ed0b648",
   "metadata": {},
   "source": [
    "## Author\n",
    "monica camacho"
   ]
  }
 ],
 "metadata": {
  "kernelspec": {
   "display_name": "Python",
   "language": "python",
   "name": "conda-env-python-py"
  },
  "language_info": {
   "codemirror_mode": {
    "name": "ipython",
    "version": 3
   },
   "file_extension": ".py",
   "mimetype": "text/x-python",
   "name": "python",
   "nbconvert_exporter": "python",
   "pygments_lexer": "ipython3",
   "version": "3.7.12"
  }
 },
 "nbformat": 4,
 "nbformat_minor": 5
}
